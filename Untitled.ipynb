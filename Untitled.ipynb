{
 "cells": [
  {
   "cell_type": "code",
   "execution_count": 1,
   "metadata": {},
   "outputs": [],
   "source": [
    "import numpy as np # linear algebra\n",
    "import pandas as pd # data processing, CSV file I/O (e.g. pd.read_csv)\n",
    "import sklearn.datasets\n",
    "from sklearn.linear_model import LogisticRegression"
   ]
  },
  {
   "cell_type": "code",
   "execution_count": 2,
   "metadata": {},
   "outputs": [],
   "source": [
    "iris = sklearn.datasets.load_iris()\n",
    "data = iris.data\n",
    "target = iris.target"
   ]
  },
  {
   "cell_type": "code",
   "execution_count": 3,
   "metadata": {},
   "outputs": [
    {
     "name": "stderr",
     "output_type": "stream",
     "text": [
      "/home/samy/anaconda3/lib/python3.7/site-packages/sklearn/linear_model/logistic.py:469: FutureWarning: Default multi_class will be changed to 'auto' in 0.22. Specify the multi_class option to silence this warning.\n",
      "  \"this warning.\", FutureWarning)\n"
     ]
    }
   ],
   "source": [
    "logreg = LogisticRegression(solver = \"lbfgs\", C=1e42)\n",
    "clf = logreg.fit(data, target)"
   ]
  },
  {
   "cell_type": "code",
   "execution_count": 13,
   "metadata": {},
   "outputs": [
    {
     "data": {
      "text/plain": [
       "array([2])"
      ]
     },
     "execution_count": 13,
     "metadata": {},
     "output_type": "execute_result"
    }
   ],
   "source": [
    "clf.predict([[1,1,1,44]])"
   ]
  },
  {
   "cell_type": "code",
   "execution_count": 24,
   "metadata": {},
   "outputs": [
    {
     "data": {
      "text/plain": [
       "['modelLogisticRegression.joblib']"
      ]
     },
     "execution_count": 24,
     "metadata": {},
     "output_type": "execute_result"
    }
   ],
   "source": [
    "from joblib import dump\n",
    "dump(clf, 'modelLogisticRegression.joblib') "
   ]
  },
  {
   "cell_type": "code",
   "execution_count": 1,
   "metadata": {},
   "outputs": [],
   "source": [
    "from joblib import load\n",
    "clf = load('modelLogisticRegression.joblib')"
   ]
  },
  {
   "cell_type": "code",
   "execution_count": 2,
   "metadata": {},
   "outputs": [
    {
     "data": {
      "text/plain": [
       "list"
      ]
     },
     "execution_count": 2,
     "metadata": {},
     "output_type": "execute_result"
    }
   ],
   "source": [
    "type([3, \"ONCHE\"])"
   ]
  },
  {
   "cell_type": "code",
   "execution_count": 42,
   "metadata": {},
   "outputs": [],
   "source": [
    "import numpy as np"
   ]
  },
  {
   "cell_type": "code",
   "execution_count": 43,
   "metadata": {},
   "outputs": [],
   "source": [
    "ploufinet = np.array([2,3,\"test\"])"
   ]
  },
  {
   "cell_type": "code",
   "execution_count": 44,
   "metadata": {},
   "outputs": [
    {
     "name": "stdout",
     "output_type": "stream",
     "text": [
      "2\n",
      "3\n",
      "test\n"
     ]
    }
   ],
   "source": [
    "for i in ploufinet:\n",
    "    print(i)"
   ]
  },
  {
   "cell_type": "code",
   "execution_count": 45,
   "metadata": {},
   "outputs": [
    {
     "data": {
      "text/plain": [
       "['2', '3', 'test']"
      ]
     },
     "execution_count": 45,
     "metadata": {},
     "output_type": "execute_result"
    }
   ],
   "source": [
    "list(ploufinet)"
   ]
  },
  {
   "cell_type": "code",
   "execution_count": 46,
   "metadata": {},
   "outputs": [
    {
     "data": {
      "text/plain": [
       "(236,)"
      ]
     },
     "execution_count": 46,
     "metadata": {},
     "output_type": "execute_result"
    }
   ],
   "source": [
    "np.zeros(236).shape"
   ]
  },
  {
   "cell_type": "code",
   "execution_count": 47,
   "metadata": {},
   "outputs": [
    {
     "data": {
      "text/plain": [
       "0.0"
      ]
     },
     "execution_count": 47,
     "metadata": {},
     "output_type": "execute_result"
    }
   ],
   "source": [
    "np.zeros(1)[0]"
   ]
  },
  {
   "cell_type": "code",
   "execution_count": 48,
   "metadata": {},
   "outputs": [],
   "source": [
    "l = [\"Onchichonch\", \"plouf\"]"
   ]
  },
  {
   "cell_type": "code",
   "execution_count": 49,
   "metadata": {},
   "outputs": [],
   "source": [
    "dict = {\"Onchichonch\":1, \"plouf\":3}"
   ]
  },
  {
   "cell_type": "code",
   "execution_count": 56,
   "metadata": {},
   "outputs": [],
   "source": [
    "amenities = [' toilet',\n",
    " '24-hour check-in',\n",
    " 'Accessible-height bed',\n",
    " 'Accessible-height toilet',\n",
    " 'Air conditioning',\n",
    " 'Air purifier',\n",
    " 'Amazon Echo',\n",
    " 'BBQ grill',\n",
    " 'Baby bath',\n",
    " 'Baby monitor',\n",
    " 'Babysitter recommendations',\n",
    " 'Balcony',\n",
    " 'Bath towel',\n",
    " 'Bathroom essentials',\n",
    " 'Bathtub',\n",
    " 'Bathtub with bath chair',\n",
    " 'Beach essentials',\n",
    " 'Beach view',\n",
    " 'Beachfront',\n",
    " 'Bed linens',\n",
    " 'Bedroom comforts',\n",
    " 'Bidet',\n",
    " 'Body soap',\n",
    " 'Breakfast',\n",
    " 'Breakfast table',\n",
    " 'Building staff',\n",
    " 'Buzzer/wireless intercom',\n",
    " 'Cable TV',\n",
    " 'Carbon monoxide detector',\n",
    " 'Cat(s)',\n",
    " 'Ceiling fan',\n",
    " 'Ceiling hoist',\n",
    " 'Changing table',\n",
    " 'Children’s books and toys',\n",
    " 'Children’s dinnerware',\n",
    " 'Cleaning before checkout',\n",
    " 'Coffee maker',\n",
    " 'Convection oven',\n",
    " 'Cooking basics',\n",
    " 'Crib',\n",
    " 'DVD player',\n",
    " 'Day bed',\n",
    " 'Disabled parking spot',\n",
    " 'Dishes and silverware',\n",
    " 'Dishwasher',\n",
    " 'Dog(s)',\n",
    " 'Doorman',\n",
    " 'Double oven',\n",
    " 'Dryer',\n",
    " 'EV charger',\n",
    " 'Electric profiling bed',\n",
    " 'Elevator',\n",
    " 'En suite bathroom',\n",
    " 'Espresso machine',\n",
    " 'Essentials',\n",
    " 'Ethernet connection',\n",
    " 'Extra pillows and blankets',\n",
    " 'Family/kid friendly',\n",
    " 'Fire extinguisher',\n",
    " 'Fireplace guards',\n",
    " 'Firm mattress',\n",
    " 'First aid kit',\n",
    " 'Fixed grab bars for shower',\n",
    " 'Fixed grab bars for toilet',\n",
    " 'Flat path to front door',\n",
    " 'Formal dining area',\n",
    " 'Free parking on premises',\n",
    " 'Free street parking',\n",
    " 'Full kitchen',\n",
    " 'Game console',\n",
    " 'Garden or backyard',\n",
    " 'Ground floor access',\n",
    " 'Gym',\n",
    " 'Hair dryer',\n",
    " 'Handheld shower head',\n",
    " 'Hangers',\n",
    " 'Heated towel rack',\n",
    " 'Heating',\n",
    " 'High chair',\n",
    " 'High-resolution computer monitor',\n",
    " 'Host greets you',\n",
    " 'Hot tub',\n",
    " 'Hot water',\n",
    " 'Hot water kettle',\n",
    " 'Indoor fireplace',\n",
    " 'Internet',\n",
    " 'Iron',\n",
    " 'Ironing Board',\n",
    " 'Jetted tub',\n",
    " 'Keypad',\n",
    " 'Kitchen',\n",
    " 'Kitchenette',\n",
    " 'Lake access',\n",
    " 'Laptop friendly workspace',\n",
    " 'Lock on bedroom door',\n",
    " 'Lockbox',\n",
    " 'Long term stays allowed',\n",
    " 'Luggage dropoff allowed',\n",
    " 'Memory foam mattress',\n",
    " 'Microwave',\n",
    " 'Mini fridge',\n",
    " 'Mobile hoist',\n",
    " 'Mudroom',\n",
    " 'Murphy bed',\n",
    " 'Netflix',\n",
    " 'Other pet(s)',\n",
    " 'Outdoor seating',\n",
    " 'Outlet covers',\n",
    " 'Oven',\n",
    " 'Pack ’n Play/travel crib',\n",
    " 'Paid parking off premises',\n",
    " 'Paid parking on premises',\n",
    " 'Patio or balcony',\n",
    " 'Pets allowed',\n",
    " 'Pets live on this property',\n",
    " 'Pillow-top mattress',\n",
    " 'Pocket wifi',\n",
    " 'Pool',\n",
    " 'Pool with pool hoist',\n",
    " 'Printer',\n",
    " 'Private entrance',\n",
    " 'Private living room',\n",
    " 'Projector and screen',\n",
    " 'Rain shower',\n",
    " 'Refrigerator',\n",
    " 'Roll-in shower',\n",
    " 'Roll-in shower with chair',\n",
    " 'Room-darkening shades',\n",
    " 'Safety card',\n",
    " 'Self check-in',\n",
    " 'Shampoo',\n",
    " 'Shower chair',\n",
    " 'Single level home',\n",
    " 'Ski-in/Ski-out',\n",
    " 'Smart TV',\n",
    " 'Smart lock',\n",
    " 'Smoke detector',\n",
    " 'Smoking allowed',\n",
    " 'Soaking tub',\n",
    " 'Sound system',\n",
    " 'Stair gates',\n",
    " 'Stand alone shower',\n",
    " 'Stand alone steam shower',\n",
    " 'Standing valet',\n",
    " 'Steam oven',\n",
    " 'Step-free access',\n",
    " 'Stove',\n",
    " 'Suitable for events',\n",
    " 'Sun loungers',\n",
    " 'TV',\n",
    " 'Table corner guards',\n",
    " 'Tennis court',\n",
    " 'Terrace',\n",
    " 'Toilet paper',\n",
    " 'Walk-in shower',\n",
    " 'Warming drawer',\n",
    " 'Washer',\n",
    " 'Washer / Dryer',\n",
    " 'Waterfront',\n",
    " 'Well-lit path to entrance',\n",
    " 'Wheelchair accessible',\n",
    " 'Wide clearance to bed',\n",
    " 'Wide clearance to shower',\n",
    " 'Wide doorway',\n",
    " 'Wide entryway',\n",
    " 'Wide hallway clearance',\n",
    " 'Wifi',\n",
    " 'Window guards',\n",
    " 'Wine cooler']\n"
   ]
  },
  {
   "cell_type": "code",
   "execution_count": 57,
   "metadata": {},
   "outputs": [],
   "source": [
    "ceQueJai = ['Terrace', 'Wifi']"
   ]
  },
  {
   "cell_type": "code",
   "execution_count": 58,
   "metadata": {},
   "outputs": [
    {
     "name": "stdout",
     "output_type": "stream",
     "text": [
      "152\n",
      "166\n"
     ]
    }
   ],
   "source": [
    "for ams in ceQueJai:\n",
    "    print(amenities.index(ams))"
   ]
  },
  {
   "cell_type": "code",
   "execution_count": null,
   "metadata": {},
   "outputs": [],
   "source": []
  }
 ],
 "metadata": {
  "kernelspec": {
   "display_name": "Python 3",
   "language": "python",
   "name": "python3"
  },
  "language_info": {
   "codemirror_mode": {
    "name": "ipython",
    "version": 3
   },
   "file_extension": ".py",
   "mimetype": "text/x-python",
   "name": "python",
   "nbconvert_exporter": "python",
   "pygments_lexer": "ipython3",
   "version": "3.7.3"
  }
 },
 "nbformat": 4,
 "nbformat_minor": 2
}
